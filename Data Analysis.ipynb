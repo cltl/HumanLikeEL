{
 "cells": [
  {
   "cell_type": "markdown",
   "metadata": {},
   "source": [
    "# Data analysis"
   ]
  },
  {
   "cell_type": "code",
   "execution_count": 1,
   "metadata": {
    "collapsed": true
   },
   "outputs": [],
   "source": [
    "import matplotlib.pyplot as plt\n",
    "%matplotlib inline\n",
    "\n",
    "# Scipy offers many statistical functions, among which the Pearson and Spearman correlation measures.\n",
    "from scipy.stats import pearsonr, spearmanr\n"
   ]
  },
  {
   "cell_type": "markdown",
   "metadata": {},
   "source": [
    "### 1) Load datasets from BIN file"
   ]
  },
  {
   "cell_type": "code",
   "execution_count": 2,
   "metadata": {
    "collapsed": true
   },
   "outputs": [],
   "source": [
    "wes_title='wes2015'\n",
    "aida_title='aida'\n",
    "n3_title='n3'\n",
    "\n",
    "titles=[aida_title, n3_title]"
   ]
  },
  {
   "cell_type": "code",
   "execution_count": 3,
   "metadata": {
    "collapsed": true
   },
   "outputs": [],
   "source": [
    "import pickle\n",
    "data_articles={}\n",
    "\n",
    "for title in titles:\n",
    "    with open('%s.bin' % title, 'rb') as outfile:\n",
    "        data_articles[title]=pickle.load(outfile)\n"
   ]
  },
  {
   "cell_type": "markdown",
   "metadata": {},
   "source": [
    "### 2) Distribution of AIDA collections "
   ]
  },
  {
   "cell_type": "code",
   "execution_count": 18,
   "metadata": {},
   "outputs": [
    {
     "name": "stdout",
     "output_type": "stream",
     "text": [
      "defaultdict(<class 'int'>, {'aidatesta': 216, 'aidatrain': 946, 'aidatestb': 231})\n",
      "defaultdict(<class 'int'>, {'reuters128': 128, 'rss500': 500})\n"
     ]
    }
   ],
   "source": [
    "from collections import defaultdict\n",
    "\n",
    "d=defaultdict(int)\n",
    "for article in data_articles[aida_title]:\n",
    "    d[article.collection]+=1\n",
    "print(d)\n",
    "\n",
    "d=defaultdict(int)\n",
    "for article in data_articles[n3_title]:\n",
    "    d[article.collection]+=1\n",
    "print(d)"
   ]
  },
  {
   "cell_type": "markdown",
   "metadata": {},
   "source": [
    "### 3) Get frequency distributions of forms and instances"
   ]
  },
  {
   "cell_type": "code",
   "execution_count": 19,
   "metadata": {
    "collapsed": true
   },
   "outputs": [],
   "source": [
    "#all_articles=aida_articles.union(wes_articles)\n",
    "all_articles=set()\n",
    "for articles in data_articles.values():\n",
    "    all_articles |= articles"
   ]
  },
  {
   "cell_type": "code",
   "execution_count": 20,
   "metadata": {},
   "outputs": [
    {
     "data": {
      "text/plain": [
       "2021"
      ]
     },
     "execution_count": 20,
     "metadata": {},
     "output_type": "execute_result"
    }
   ],
   "source": [
    "len(all_articles)"
   ]
  },
  {
   "cell_type": "code",
   "execution_count": 21,
   "metadata": {
    "collapsed": true
   },
   "outputs": [],
   "source": [
    "import plot_utils\n",
    "\n",
    "instances_cnt={}\n",
    "forms_cnt={}\n",
    "for title, articles in data_articles.items():\n",
    "    instances_cnt[title], forms_cnt[title]=plot_utils.get_mention_counts(articles)\n",
    "\n",
    "all_cnt_instances, all_cnt_forms=plot_utils.get_mention_counts(all_articles)\n",
    "instances_cnt[aida_title].pop('--NME--', None)\n"
   ]
  },
  {
   "cell_type": "markdown",
   "metadata": {},
   "source": [
    "### 4) Plot frequency distribution of FORMS\n",
    "\n",
    "<span style=\"background-color:lightgreen\">Section 5.1. of the paper</span>\n",
    "\n",
    "**4.1. Linear plots **"
   ]
  },
  {
   "cell_type": "code",
   "execution_count": 22,
   "metadata": {
    "collapsed": true
   },
   "outputs": [],
   "source": [
    "import seaborn as sns\n",
    "sns.set_style(\"whitegrid\")"
   ]
  },
  {
   "cell_type": "code",
   "execution_count": 23,
   "metadata": {
    "collapsed": true
   },
   "outputs": [],
   "source": [
    "save=True"
   ]
  },
  {
   "cell_type": "code",
   "execution_count": 24,
   "metadata": {},
   "outputs": [
    {
     "name": "stdout",
     "output_type": "stream",
     "text": [
      "aida\n"
     ]
    },
    {
     "data": {
      "image/png": "[encoded data removed]",
      "text/plain": [
       "<matplotlib.figure.Figure at 0x11a460d68>"
      ]
     },
     "metadata": {},
     "output_type": "display_data"
    },
    {
     "name": "stdout",
     "output_type": "stream",
     "text": [
      "n3\n"
     ]
    },
    {
     "data": {
      "image/png": "[encoded data removed]",
      "text/plain": [
       "<matplotlib.figure.Figure at 0x11a2e3668>"
      ]
     },
     "metadata": {},
     "output_type": "display_data"
    }
   ],
   "source": [
    "for title, data_forms_cnt in forms_cnt.items():\n",
    "    print(title)\n",
    "    plot_utils.plot_freq_dist(data_forms_cnt, 'forms in ' + title, \n",
    "                              x_axis='Rank', save=save)\n",
    "#    plot_utils.plot_freq_dist(aida_cnt_forms, 'forms in ' + aida_title, \n",
    "#                              x_axis='Rank', save=save)"
   ]
  },
  {
   "cell_type": "markdown",
   "metadata": {},
   "source": [
    "**4.2. Log-log plots**"
   ]
  },
  {
   "cell_type": "code",
   "execution_count": 27,
   "metadata": {
    "collapsed": true
   },
   "outputs": [],
   "source": [
    "from collections import OrderedDict\n",
    "import numpy as np\n",
    "def plot_multi_freq_dist(forms_cnt, kind='', x_axis='Entity mentions', loglog=False, b=2, save=False):\n",
    "    fig = plt.figure()\n",
    "    for title, data_forms_cnt in forms_cnt.items():\n",
    "        print(title)\n",
    "        y = OrderedDict(data_forms_cnt.most_common())\n",
    "        v=list(y.values())\n",
    "        k=np.arange(0,len(v),1)\n",
    "        if loglog:\n",
    "                plt.loglog(k,v, basex=b)\n",
    "        else:\n",
    "                plt.plot(k,v)\n",
    "    plt.ylabel('Frequency')\n",
    "    plt.xlabel(x_axis)\n",
    "    if kind:\n",
    "        if loglog:\n",
    "                p_title = 'Log-Log distribution of %s' % kind\n",
    "        else:\n",
    "                p_title = 'Distribution of %s' % kind\n",
    "        plt.title(p_title)\n",
    "    plt.show()\n",
    "    if save:\n",
    "            if title:\n",
    "                    fig.savefig('img/%s.png' % p_title.lower().replace(' ', '_'), bbox_inches='tight')\n",
    "            else:\n",
    "                    fig.savefig('img/%d.png' % random.randint(0,1000000), bbox_inches='tight')"
   ]
  },
  {
   "cell_type": "code",
   "execution_count": 29,
   "metadata": {
    "scrolled": false
   },
   "outputs": [
    {
     "name": "stdout",
     "output_type": "stream",
     "text": [
      "aida\n",
      "n3\n"
     ]
    },
    {
     "data": {
      "image/png": "[encoded data removed]",
      "text/plain": [
       "<matplotlib.figure.Figure at 0x11b7d24a8>"
      ]
     },
     "metadata": {},
     "output_type": "display_data"
    }
   ],
   "source": [
    "#for title, data_forms_cnt in forms_cnt.items():\n",
    "#    plot_utils.plot_freq_dist(data_forms_cnt, 'forms in ' + title, \n",
    "#                          x_axis='Log(Rank)', loglog=True, \n",
    "#                          b=10, save=save)\n",
    "\n",
    "plot_multi_freq_dist(forms_cnt, kind='forms', \n",
    "                          x_axis='Log(Rank)', loglog=True, \n",
    "                          b=10, save=save)"
   ]
  },
  {
   "cell_type": "markdown",
   "metadata": {},
   "source": [
    "**4.3. Slope** "
   ]
  },
  {
   "cell_type": "code",
   "execution_count": 30,
   "metadata": {},
   "outputs": [
    {
     "name": "stdout",
     "output_type": "stream",
     "text": [
      "Slope of aida\n",
      "LinregressResult(slope=-0.9085055184143714, intercept=7.8255514656094025, rvalue=-0.980230426304651, pvalue=0.0, stderr=0.002211666075089343)\n",
      "\n",
      "Slope of n3\n",
      "LinregressResult(slope=-0.4291157858478489, intercept=2.6598145891571967, rvalue=-0.9145065635986074, pvalue=9.4e-322, stderr=0.0066578990862902745)\n",
      "\n",
      "ALL\n",
      "LinregressResult(slope=-0.89150386214697, intercept=7.732402257777029, rvalue=-0.9793746816704233, pvalue=0.0, stderr=0.002117710734137212)\n"
     ]
    }
   ],
   "source": [
    "for title, data_forms_cnt in forms_cnt.items():\n",
    "    print('Slope of %s' % title)\n",
    "    print(plot_utils.calculate_slope(data_forms_cnt))\n",
    "    print()\n",
    "print('ALL')\n",
    "print(plot_utils.calculate_slope(all_cnt_forms))"
   ]
  },
  {
   "cell_type": "markdown",
   "metadata": {},
   "source": [
    "### 5) Plot frequency distribution of INSTANCES\n",
    "\n",
    "<span style=\"background-color:lightgreen\">Section 5.1. of the paper</span>\n",
    "\n",
    "**5.1. Linear plots **"
   ]
  },
  {
   "cell_type": "code",
   "execution_count": 31,
   "metadata": {},
   "outputs": [
    {
     "data": {
      "image/png": "[encoded data removed]",
      "text/plain": [
       "<matplotlib.figure.Figure at 0x115f373c8>"
      ]
     },
     "metadata": {},
     "output_type": "display_data"
    },
    {
     "data": {
      "image/png": "[encoded data removed]",
      "text/plain": [
       "<matplotlib.figure.Figure at 0x11a7cdda0>"
      ]
     },
     "metadata": {},
     "output_type": "display_data"
    }
   ],
   "source": [
    "for title, data_instances_cnt in instances_cnt.items():\n",
    "    plot_utils.plot_freq_dist(data_instances_cnt, 'instances in ' + title, \n",
    "                              x_axis='Rank', save=save)"
   ]
  },
  {
   "cell_type": "markdown",
   "metadata": {},
   "source": [
    "**5.2. Log-log plots**"
   ]
  },
  {
   "cell_type": "code",
   "execution_count": 33,
   "metadata": {
    "scrolled": true
   },
   "outputs": [
    {
     "name": "stdout",
     "output_type": "stream",
     "text": [
      "aida\n",
      "n3\n"
     ]
    },
    {
     "data": {
      "image/png": "[encoded data removed]",
      "text/plain": [
       "<matplotlib.figure.Figure at 0x115a35d30>"
      ]
     },
     "metadata": {},
     "output_type": "display_data"
    }
   ],
   "source": [
    "#for title, data_instances_cnt in instances_cnt.items():\n",
    "#    plot_utils.plot_freq_dist(data_instances_cnt, 'instances in ' + title, \n",
    "#                              x_axis='Log(Rank)', loglog=True, \n",
    "#                              b=10, save=save)\n",
    "    \n",
    "plot_multi_freq_dist(instances_cnt, kind='instances', \n",
    "                              x_axis='Log(Rank)', loglog=True, \n",
    "                              b=10, save=save)"
   ]
  },
  {
   "cell_type": "markdown",
   "metadata": {},
   "source": [
    "**5.3. Slope** "
   ]
  },
  {
   "cell_type": "code",
   "execution_count": 34,
   "metadata": {},
   "outputs": [
    {
     "name": "stdout",
     "output_type": "stream",
     "text": [
      "Slope of aida\n",
      "LinregressResult(slope=-0.9657417477440569, intercept=8.196237374207712, rvalue=-0.9817597280327227, pvalue=0.0, stderr=0.0025012217726795715)\n",
      "\n",
      "Slope of n3\n",
      "LinregressResult(slope=-0.5418946841833255, intercept=3.330739533590001, rvalue=-0.9503337969510662, pvalue=0.0, stderr=0.006820706078897001)\n",
      "\n",
      "ALL\n",
      "LinregressResult(slope=-0.9508303826500141, intercept=8.129758437316264, rvalue=-0.9818528987899069, pvalue=0.0, stderr=0.0023473874212897004)\n"
     ]
    }
   ],
   "source": [
    "for title, data_instances_cnt in instances_cnt.items():\n",
    "    print('Slope of %s' % title)\n",
    "    print(plot_utils.calculate_slope(data_instances_cnt))\n",
    "    print()\n",
    "print('ALL')\n",
    "print(plot_utils.calculate_slope(all_cnt_instances))"
   ]
  },
  {
   "cell_type": "markdown",
   "metadata": {},
   "source": [
    "### 6) PageRank distribution of instances\n"
   ]
  },
  {
   "cell_type": "markdown",
   "metadata": {},
   "source": [
    "#### 6.1. Obtain pagerank data"
   ]
  },
  {
   "cell_type": "code",
   "execution_count": 35,
   "metadata": {
    "collapsed": true
   },
   "outputs": [],
   "source": [
    "from collections import Counter\n",
    "\n",
    "skip_zeros=True\n",
    "pr_agg={}\n",
    "pr_uniq={}\n",
    "pageranks={}\n",
    "\n",
    "for title, articles in data_articles.items():\n",
    "    pr_agg[title], pr_uniq[title], this_pageranks=\\\n",
    "        plot_utils.get_pageranks(articles, skip_zeros=skip_zeros)\n",
    "    pageranks[title] = Counter(this_pageranks)\n"
   ]
  },
  {
   "cell_type": "markdown",
   "metadata": {},
   "source": [
    "#### 6.2. Plot the PR distribution"
   ]
  },
  {
   "cell_type": "code",
   "execution_count": 38,
   "metadata": {
    "scrolled": true
   },
   "outputs": [
    {
     "name": "stdout",
     "output_type": "stream",
     "text": [
      "aida\n",
      "n3\n"
     ]
    },
    {
     "data": {
      "image/png": "[encoded data removed]",
      "text/plain": [
       "<matplotlib.figure.Figure at 0x115afa048>"
      ]
     },
     "metadata": {},
     "output_type": "display_data"
    }
   ],
   "source": [
    "for title, pr in pageranks.items():\n",
    "    plot_utils.plot_freq_dist(pr, \n",
    "                               title='PageRank in ' + title, \n",
    "                               x_axis='PageRank', save=True)\n",
    "plot_multi_freq_dist(pageranks, \n",
    "                          kind='PageRank', \n",
    "                          x_axis='PageRank', save=True)"
   ]
  },
  {
   "cell_type": "markdown",
   "metadata": {},
   "source": [
    "#### 6.3. Plot the PR distribution (log-log plot)"
   ]
  },
  {
   "cell_type": "code",
   "execution_count": 39,
   "metadata": {
    "scrolled": true
   },
   "outputs": [
    {
     "name": "stdout",
     "output_type": "stream",
     "text": [
      "aida\n",
      "n3\n"
     ]
    },
    {
     "data": {
      "image/png": "[encoded data removed]",
      "text/plain": [
       "<matplotlib.figure.Figure at 0x115f2cfd0>"
      ]
     },
     "metadata": {},
     "output_type": "display_data"
    }
   ],
   "source": [
    "#for title, pr in pageranks.items():\n",
    "#    plot_utils.plot_freq_dist(pr, 'PageRank in ' + title, \n",
    "#                              x_axis='PageRank', loglog=True, \n",
    "#                              b=10, save=save)\n",
    "plot_multi_freq_dist(pageranks, kind='PageRank', \n",
    "                          x_axis='PageRank', loglog=True, \n",
    "                          b=10, save=save)"
   ]
  },
  {
   "cell_type": "markdown",
   "metadata": {},
   "source": [
    "#### 6.4. Inspect individual pagerank"
   ]
  },
  {
   "cell_type": "code",
   "execution_count": 40,
   "metadata": {},
   "outputs": [
    {
     "name": "stdout",
     "output_type": "stream",
     "text": [
      "11 636 1\n"
     ]
    }
   ],
   "source": [
    "# United_States has a max pageRank of 11066. \n",
    "pr=11066\n",
    "print(pr_agg[n3_title][pr], pr_agg[aida_title][pr], pr_uniq[aida_title][pr])\n"
   ]
  },
  {
   "cell_type": "markdown",
   "metadata": {},
   "source": [
    "# Note: from here onwards most plots given stats for both datasets jointly\n"
   ]
  },
  {
   "cell_type": "markdown",
   "metadata": {},
   "source": [
    "### 7) Prepare ambiguity and variance data"
   ]
  },
  {
   "cell_type": "code",
   "execution_count": 41,
   "metadata": {
    "collapsed": true
   },
   "outputs": [],
   "source": [
    "interpretations, references = plot_utils.get_interpretations_and_references(all_articles, \n",
    "                                                                            skip_nils=True)"
   ]
  },
  {
   "cell_type": "markdown",
   "metadata": {},
   "source": [
    "### 8) Aggregation per ambiguity\n",
    "\n",
    "<span style=\"background-color:lightgreen\">Section 5.2. of the paper</span>"
   ]
  },
  {
   "cell_type": "code",
   "execution_count": 42,
   "metadata": {},
   "outputs": [
    {
     "data": {
      "text/plain": [
       "{'NYC': 1,\n",
       " 'Michigan National Bank': 1,\n",
       " 'Detroit': 2,\n",
       " 'BENETTON': 1,\n",
       " 'BELGRADE': 1,\n",
       " 'Benetton': 2,\n",
       " 'Italy': 3,\n",
       " 'Russia': 2,\n",
       " 'HENKE': 1,\n",
       " 'MILWAUKEE': 3,\n",
       " 'WOODS': 1,\n",
       " 'Wisconsin': 1,\n",
       " 'Nolan Henke': 1,\n",
       " 'Greater Milwaukee Open': 1,\n",
       " 'Tiger Woods': 1,\n",
       " 'Henke': 1,\n",
       " 'Bob Estes': 1,\n",
       " 'Billy Andrade': 1,\n",
       " 'Duffy Waldorf': 1,\n",
       " 'Jesper Parnevik': 1,\n",
       " 'Woods': 1,\n",
       " 'U.S. Amateur Championship': 1,\n",
       " 'Andrew Magee': 1,\n",
       " 'PGA Tour': 1,\n",
       " 'BellSouth Classic': 1,\n",
       " 'Estes': 2,\n",
       " 'Texas Open': 1,\n",
       " 'Nortel Open': 1,\n",
       " 'Billy Mayfair': 1,\n",
       " 'World Series of Golf': 1,\n",
       " 'U.S. Open': 2,\n",
       " 'Payne Stewart': 1,\n",
       " 'Scott Hoch': 1,\n",
       " 'Phil Mickelson': 1,\n",
       " 'Mark Brooks': 1,\n",
       " 'Tom Lehman': 1,\n",
       " 'BANGKOK': 1,\n",
       " 'Thailand': 1,\n",
       " 'Siam Commercial Bank': 1,\n",
       " 'Reuters': 1,\n",
       " 'Bangkok': 1,\n",
       " 'TOKYO': 1,\n",
       " 'Haneda': 1,\n",
       " 'Tokyo': 2,\n",
       " 'Itami': 1,\n",
       " 'Osaka': 1,\n",
       " 'Indians': 3,\n",
       " 'Manny Acta': 1,\n",
       " 'Netanyahu': 1,\n",
       " 'Weizman': 1,\n",
       " 'Arafat': 1,\n",
       " 'JERUSALEM': 1,\n",
       " 'Israeli': 1,\n",
       " 'Ezer Weizman': 1,\n",
       " 'Yasser Arafat': 1,\n",
       " 'Benjamin Netanyahu': 1,\n",
       " 'Jerusalem': 1,\n",
       " 'Israel': 2,\n",
       " 'Yedioth Ahronoth': 1,\n",
       " 'Palestinian': 2,\n",
       " 'Moslem': 1,\n",
       " 'France': 5,\n",
       " 'Alberto Contador': 1,\n",
       " 'Great Lakes Chemical Corp': 1,\n",
       " 'Securities and Exchange Commission': 1,\n",
       " 'Huntsman Chemical Corp': 1,\n",
       " 'First Boston Corp': 1,\n",
       " 'Goldman, Sachs and Co ': 1,\n",
       " 'India': 2,\n",
       " 'DUBAI': 1,\n",
       " 'Korea': 1,\n",
       " 'Dubai': 1,\n",
       " 'Africa': 1,\n",
       " 'IOC': 1,\n",
       " 'ALBUQUERQUE': 1,\n",
       " 'N.M.': 1,\n",
       " 'New Mexico': 1,\n",
       " 'Albuquerque': 1,\n",
       " 'New Mexico Activities Association': 1,\n",
       " 'China': 4,\n",
       " 'Xiao Qiang': 1,\n",
       " 'New York-based': 2,\n",
       " 'Human Rights in China': 1,\n",
       " 'Communist Party': 1,\n",
       " 'Deng Xiaoping': 1,\n",
       " 'Xiao': 1,\n",
       " 'Amnesty International': 1,\n",
       " 'Hangzhou': 1,\n",
       " 'MILLNS': 1,\n",
       " 'BOLAND': 1,\n",
       " 'CAPE TOWN': 1,\n",
       " 'South African': 4,\n",
       " 'Boland': 1,\n",
       " 'Leicestershire': 1,\n",
       " 'David Millns': 1,\n",
       " 'Australia': 5,\n",
       " 'England': 6,\n",
       " 'Phillip DeFreitas': 1,\n",
       " 'Dish': 1,\n",
       " 'Maine': 2,\n",
       " 'FRENCH': 2,\n",
       " 'PARIS': 1,\n",
       " 'French': 2,\n",
       " 'Nancy': 2,\n",
       " 'Paris St Germain': 1,\n",
       " 'Nikkei': 1,\n",
       " 'MAJOR LEAGUE': 1,\n",
       " 'NEW YORK': 4,\n",
       " 'Major League': 1,\n",
       " 'American League': 1,\n",
       " 'DETROIT': 5,\n",
       " 'Kansas City': 2,\n",
       " 'Chicago': 4,\n",
       " 'TORONTO': 4,\n",
       " 'Minnesota': 3,\n",
       " 'TEXAS': 1,\n",
       " 'Cleveland': 3,\n",
       " 'New York': 5,\n",
       " 'CALIFORNIA': 1,\n",
       " 'OAKLAND': 3,\n",
       " 'Boston': 3,\n",
       " 'Baltimore': 2,\n",
       " 'SEATTLE': 4,\n",
       " 'National League': 1,\n",
       " 'CHICAGO': 6,\n",
       " 'Atlanta': 3,\n",
       " 'Florida': 2,\n",
       " 'CINCINNATI': 3,\n",
       " 'San Diego': 2,\n",
       " 'MONTREAL': 3,\n",
       " 'Los Angeles': 2,\n",
       " 'PHILADELPHIA': 5,\n",
       " 'Houston': 3,\n",
       " 'PITTSBURGH': 3,\n",
       " 'San Francisco': 2,\n",
       " 'Colorado': 2,\n",
       " 'KUUSAMO': 1,\n",
       " 'Finland': 2,\n",
       " 'World Cup': 12,\n",
       " 'Takanobu Okabe': 1,\n",
       " 'Japan': 3,\n",
       " 'Kazuyoshi Funaki': 1,\n",
       " 'Andreas Goldberger': 1,\n",
       " 'Austria': 4,\n",
       " 'Dieter Thoma': 1,\n",
       " 'Germany': 5,\n",
       " 'Ari-Pekka Nikkola': 1,\n",
       " 'Reinhard Schwarzenberger': 1,\n",
       " 'Noriaki Kasai': 1,\n",
       " 'Jani Soininen': 1,\n",
       " 'Kristian Brenden': 1,\n",
       " 'Norway': 1,\n",
       " 'Thoma': 1,\n",
       " 'Brenden': 1,\n",
       " 'Goldberger': 1,\n",
       " 'Okabe': 1,\n",
       " 'Funaki': 1,\n",
       " 'Espen Bredesen': 1,\n",
       " 'Nikkola': 1,\n",
       " 'Soininen': 1,\n",
       " 'Primoz Peterka': 1,\n",
       " 'Slovakia': 2,\n",
       " 'Army General Martin E. Dempsey': 1,\n",
       " 'Joint Chiefs': 1,\n",
       " 'Croatian': 1,\n",
       " 'ZAGREB': 1,\n",
       " 'Croatia': 3,\n",
       " 'German': 4,\n",
       " 'Colombian': 1,\n",
       " 'BOGOTA': 1,\n",
       " 'Colombia': 1,\n",
       " 'Ernesto Samper': 1,\n",
       " 'Samper': 1,\n",
       " 'Liberal Party': 2,\n",
       " 'U.S.': 3,\n",
       " 'Clinton': 2,\n",
       " 'American': 2,\n",
       " 'Iraq': 1,\n",
       " 'U.N.': 1,\n",
       " 'UNITED NATIONS': 1,\n",
       " 'United States': 3,\n",
       " 'Iraqi': 1,\n",
       " 'Kuwait': 2,\n",
       " 'United Nations': 1,\n",
       " 'Boutros Boutros-Ghali': 1,\n",
       " 'Gulf War': 1,\n",
       " 'Kurdish': 4,\n",
       " 'Baghdad': 2,\n",
       " 'Iraqis': 1,\n",
       " 'Yasushi Akashi': 1,\n",
       " 'Security Council': 2,\n",
       " 'Morris': 2,\n",
       " 'Bill Clinton': 1,\n",
       " 'Dick Morris': 1,\n",
       " 'New York Post': 1,\n",
       " 'Washington': 4,\n",
       " 'Democratic': 1,\n",
       " 'White House': 1,\n",
       " 'Eastman Kodak Co': 1,\n",
       " 'Morgan Stanley and Co Inc': 1,\n",
       " 'Morgan': 2,\n",
       " \"MoodyMoody's Investors Service Inc\": 1,\n",
       " \"Standard and PoorStandard and Poor's Corp\": 1,\n",
       " 'Reuter': 1,\n",
       " 'DUTCH': 2,\n",
       " 'AMSTERDAM': 1,\n",
       " 'Dutch': 4,\n",
       " 'NAC Breda': 1,\n",
       " 'NEC Nijmegen': 1,\n",
       " 'Vitesse Arnhem': 1,\n",
       " 'Sparta Rotterdam': 1,\n",
       " 'Utrecht': 1,\n",
       " 'Twente Enschede': 1,\n",
       " 'Groningen': 2,\n",
       " 'Roda JC Kerkrade': 1,\n",
       " 'Feyenoord': 1,\n",
       " 'Willem II Tilburg': 1,\n",
       " 'RKC Waalwijk': 1,\n",
       " 'Volendam': 1,\n",
       " 'PSV Eindhoven': 1,\n",
       " 'Ajax Amsterdam': 1,\n",
       " 'AZ Alkmaar': 1,\n",
       " 'Fortuna Sittard': 1,\n",
       " 'Heerenveen': 1,\n",
       " 'Feyenoord Rotterdam': 1,\n",
       " 'AUSTRALIA': 3,\n",
       " 'ZIMBABWE': 2,\n",
       " 'COLOMBO': 1,\n",
       " 'Zimbabwe': 3,\n",
       " 'Singer World Series': 1,\n",
       " 'NFL': 1,\n",
       " 'CUNNINGHAM': 1,\n",
       " 'Randall Cunningham': 1,\n",
       " 'National Football League': 1,\n",
       " 'Cunningham': 1,\n",
       " 'Philadelphia Eagles': 1,\n",
       " 'Pro Bowl': 1,\n",
       " 'Eagles': 1,\n",
       " 'Philadelphia': 4,\n",
       " 'Randall': 1,\n",
       " 'Jeffrey Lurie': 1,\n",
       " 'Nigerian': 1,\n",
       " 'Commonwealth': 2,\n",
       " 'OTTAWA': 3,\n",
       " 'Nigeria': 1,\n",
       " 'Canadian': 1,\n",
       " 'Lloyd Axworthy': 1,\n",
       " 'Axworthy': 1,\n",
       " 'London': 4,\n",
       " 'John Shad': 1,\n",
       " 'Congress': 2,\n",
       " 'Supreme Court': 3,\n",
       " 'Shad': 1,\n",
       " 'Wall Street Journal': 1,\n",
       " 'R. Foster Winans': 1,\n",
       " 'SEC': 1,\n",
       " 'Netherlands': 3,\n",
       " 'Reagan': 1,\n",
       " 'Mexican': 1,\n",
       " 'Michoacan': 1,\n",
       " 'MEXICO CITY': 1,\n",
       " 'Morelia': 2,\n",
       " 'AK-47s': 1,\n",
       " 'Popular Revolutionary Army': 1,\n",
       " 'AZERBAIJAN': 1,\n",
       " 'SWITZERLAND': 1,\n",
       " 'WORLD CUP': 1,\n",
       " 'BAKU': 1,\n",
       " 'Azerbaijan': 2,\n",
       " 'Switzerland': 2,\n",
       " 'European': 4,\n",
       " 'Vidadi Rzayev': 1,\n",
       " 'MILTIADIS EVERT': 1,\n",
       " 'ATHENS': 1,\n",
       " 'Miltiadis Evert': 1,\n",
       " 'Costas Simitis': 1,\n",
       " 'Simitis': 1,\n",
       " 'Carroll College': 1,\n",
       " 'Mike Van Diest': 1,\n",
       " 'Sudanese': 1,\n",
       " 'STANSTED': 1,\n",
       " 'Sudan Airways': 1,\n",
       " 'Khartoum': 1,\n",
       " 'Amman': 1,\n",
       " 'Cyprus': 2,\n",
       " 'GMT': 1,\n",
       " 'British-based': 1,\n",
       " 'Britain': 2,\n",
       " 'Bed Bath': 1,\n",
       " 'Angelique Kerber': 1,\n",
       " 'Timea Babos': 1,\n",
       " 'POLAND': 2,\n",
       " 'SWISS': 1,\n",
       " 'WARSAW': 1,\n",
       " 'Poland': 2,\n",
       " 'Swiss': 1,\n",
       " 'Polish': 1,\n",
       " 'Jews': 1,\n",
       " 'Holocaust': 1,\n",
       " 'World War Two': 1,\n",
       " 'Dariusz Rosati': 1,\n",
       " 'Rosati': 1,\n",
       " 'Nazi': 2,\n",
       " 'Warsaw': 1,\n",
       " 'Jewish': 1,\n",
       " 'FDP': 2,\n",
       " 'Chelsea': 2,\n",
       " 'CHILLICOTHE': 1,\n",
       " 'Ohio': 1,\n",
       " 'Chelsea Clinton': 1,\n",
       " 'West Virginia': 1,\n",
       " 'Kentucky': 3,\n",
       " 'Hillary Rodham Clinton': 1,\n",
       " 'Huntington': 1,\n",
       " 'Democratic Convention': 1,\n",
       " 'Mike McCurry': 1,\n",
       " 'Sidwell Friends School': 1,\n",
       " 'Raleigh': 1,\n",
       " 'ENGLISH COUNTY CHAMPIONSHIP': 1,\n",
       " 'LONDON': 1,\n",
       " 'English': 4,\n",
       " 'County Championship': 1,\n",
       " 'Weston-super-Mare': 2,\n",
       " 'Durham': 1,\n",
       " 'Somerset': 1,\n",
       " 'Colchester': 3,\n",
       " 'Gloucestershire': 1,\n",
       " 'J. Russell': 1,\n",
       " 'Essex': 2,\n",
       " 'Cardiff': 3,\n",
       " 'Kent': 2,\n",
       " 'Glamorgan': 1,\n",
       " 'Leicester': 3,\n",
       " 'Hampshire': 2,\n",
       " 'Northampton': 4,\n",
       " 'Sussex': 1,\n",
       " 'Northamptonshire': 1,\n",
       " 'Trent Bridge': 1,\n",
       " 'Nottinghamshire': 1,\n",
       " 'Surrey': 2,\n",
       " 'Worcester': 1,\n",
       " 'Warwickshire': 1,\n",
       " 'Worcestershire': 1,\n",
       " 'Headingley': 2,\n",
       " 'Yorkshire': 2,\n",
       " 'Lancashire': 1,\n",
       " 'Yeltsin': 1,\n",
       " 'Lebed': 1,\n",
       " 'Chechnya': 1,\n",
       " 'MOSCOW': 1,\n",
       " 'Russian': 2,\n",
       " 'Viktor Chernomyrdin': 1,\n",
       " 'Boris Yeltsin': 1,\n",
       " 'Moscow': 3,\n",
       " 'Alexander Lebed': 1,\n",
       " 'Interfax': 1,\n",
       " 'Chernomyrdin': 1,\n",
       " 'Aslan Maskhadov': 1,\n",
       " 'Russian Federation': 1,\n",
       " 'Itar-Tass': 1,\n",
       " 'Serbia': 1,\n",
       " 'Zastava': 1,\n",
       " 'Yugoslav': 1,\n",
       " 'Yugoslavia': 2,\n",
       " 'Montenegro': 1,\n",
       " 'Kragujevac': 1,\n",
       " 'Socialist Party': 2,\n",
       " 'Portland Archdiocese': 1,\n",
       " 'Venezuela': 1,\n",
       " 'CARACAS': 1,\n",
       " 'Venezuelan': 1,\n",
       " 'Caracas': 1,\n",
       " 'Hartford': 2,\n",
       " 'HARTFORD': 3,\n",
       " 'S&P': 1,\n",
       " 'FSA': 1,\n",
       " 'S. KOREAN': 1,\n",
       " 'SEOUL': 1,\n",
       " 'South Korean': 1,\n",
       " 'Hanwha': 1,\n",
       " 'JOHANNESBURG': 1,\n",
       " 'European Commission': 1,\n",
       " 'Lonrho Plc': 1,\n",
       " 'Johannesburg': 1,\n",
       " 'BRITAIN': 1,\n",
       " 'BUCHAREST': 1,\n",
       " 'Romania': 3,\n",
       " 'Hungary': 1,\n",
       " 'United Kingdom': 1,\n",
       " 'British': 2,\n",
       " 'Hungarian': 1,\n",
       " 'NATO': 2,\n",
       " 'European Union': 1,\n",
       " 'Bucharest': 1,\n",
       " 'Budapest': 1,\n",
       " 'BRAZIL': 2,\n",
       " 'Brazil': 3,\n",
       " 'Amsterdam': 1,\n",
       " 'Ajax': 1,\n",
       " 'John Veldman': 1,\n",
       " 'Richard Witschge': 1,\n",
       " 'PSV': 1,\n",
       " 'Philip Cocu': 1,\n",
       " 'Guus Hiddink': 1,\n",
       " 'Giovanni van Bronckhorst': 1,\n",
       " 'Vitesse': 1,\n",
       " 'Cocu': 1,\n",
       " 'Veldman': 1,\n",
       " 'Witschge': 1,\n",
       " 'WELLINGTON': 1,\n",
       " 'Sri Lanka': 2,\n",
       " 'New Zealand': 3,\n",
       " 'Sri Lankans': 2,\n",
       " 'Hamilton': 3,\n",
       " 'Wellington': 1,\n",
       " 'Auckland': 2,\n",
       " 'Christchurch': 1,\n",
       " 'Dunedin': 1,\n",
       " 'Pakistan': 2,\n",
       " 'Sharjah': 2,\n",
       " 'British Airways Plc': 1,\n",
       " 'American Airlines': 1,\n",
       " 'Monopolies and Mergers Commission': 1,\n",
       " 'Ian Lang': 1,\n",
       " 'Office of Fair Trading': 1,\n",
       " 'British Airways': 1,\n",
       " 'London Heathrow': 1,\n",
       " 'Europe': 1,\n",
       " 'AMR Corp.': 1,\n",
       " 'USAir': 1,\n",
       " 'Office of Fair Trade': 1,\n",
       " 'Boston Red Sox': 1,\n",
       " 'Bobby Valentine': 1,\n",
       " 'ENGLISH': 1,\n",
       " 'Ian Wright': 1,\n",
       " 'Arsenal': 1,\n",
       " 'Fabrizio Ravanelli': 1,\n",
       " 'Middlesbrough': 1,\n",
       " 'Alan Shearer': 1,\n",
       " 'Newcastle': 3,\n",
       " 'Matthew Le Tissier': 1,\n",
       " 'Southampton': 2,\n",
       " 'Dwight Yorke': 1,\n",
       " 'Aston Villa': 1,\n",
       " 'Les Ferdinand': 1,\n",
       " 'Efan Ekoku': 1,\n",
       " 'Wimbledon': 3,\n",
       " 'Gianluca Vialli': 1,\n",
       " 'Robbie Earle': 1,\n",
       " 'Marcus Gayle': 1,\n",
       " 'Gary Speed': 1,\n",
       " 'Everton': 1,\n",
       " 'Chris Sutton': 1,\n",
       " 'Blackburn': 1,\n",
       " 'Robbie Fowler': 1,\n",
       " 'Liverpool': 1,\n",
       " 'Steve McManaman': 1,\n",
       " 'Peter Beardsley': 1,\n",
       " 'Anyang': 1,\n",
       " 'Suwon': 1,\n",
       " 'Pohang': 1,\n",
       " 'Ulsan': 2,\n",
       " 'U.S. Civil War': 1,\n",
       " 'WASHINGTON': 4,\n",
       " 'Abraham Lincoln': 1,\n",
       " 'African American': 1,\n",
       " 'Lincoln': 3,\n",
       " 'Army': 1,\n",
       " 'Petersburg': 1,\n",
       " 'Virginia': 1,\n",
       " 'John Simon': 1,\n",
       " 'Southern Illinois University at Carbondale': 1,\n",
       " 'Ulysses Grant': 1,\n",
       " 'African Americans': 1,\n",
       " 'Simon': 1,\n",
       " 'American Studies': 1,\n",
       " 'American University': 1,\n",
       " 'South': 2,\n",
       " 'Americans': 1,\n",
       " 'Southern': 1,\n",
       " 'United Daughters of the Confederacy': 1,\n",
       " 'National Park Service': 1,\n",
       " 'Civil War': 1,\n",
       " 'Kayla': 1,\n",
       " 'Marblehead': 1,\n",
       " 'Nantes': 1,\n",
       " 'Lens': 1,\n",
       " 'Nice': 1,\n",
       " 'Bastia': 1,\n",
       " 'Lille': 1,\n",
       " 'Rennes': 1,\n",
       " 'Bordeaux': 2,\n",
       " 'Auxerre': 1,\n",
       " 'Marseille': 2,\n",
       " 'Metz': 1,\n",
       " 'Strasbourg': 2,\n",
       " 'Le Havre': 1,\n",
       " 'Caen': 1,\n",
       " 'Lyon': 1,\n",
       " 'Guingamp': 1,\n",
       " 'Monaco': 2,\n",
       " 'Montpellier': 1,\n",
       " 'Cannes': 1,\n",
       " 'ENGLAND': 4,\n",
       " 'Chris Lewis': 1,\n",
       " 'The Oval': 1,\n",
       " 'Asif Mujtaba': 1,\n",
       " 'Alec Stewart': 1,\n",
       " 'Salim Malik': 1,\n",
       " 'Wasim Akram': 1,\n",
       " 'Wasim': 1,\n",
       " 'Bangor': 1,\n",
       " 'LSU': 1,\n",
       " 'Les Miles': 1,\n",
       " 'PHILIPPINE': 1,\n",
       " 'Philippine Basketball Association': 1,\n",
       " 'Formula Shell': 1,\n",
       " 'Ginebra San Miguel': 1,\n",
       " 'Raytheon': 1,\n",
       " 'Delta': 1,\n",
       " 'PAKISTAN': 2,\n",
       " 'WASIM AKRAM': 1,\n",
       " 'Pakistani': 2,\n",
       " 'Imran Khan': 1,\n",
       " 'Kapil Dev': 1,\n",
       " 'Richard Hadlee': 1,\n",
       " 'Ian Botham': 1,\n",
       " 'Malcolm Marshall': 1,\n",
       " 'West Indies': 2,\n",
       " 'Dennis Lillee': 1,\n",
       " 'Bob Willis': 1,\n",
       " 'Lance Gibbs': 1,\n",
       " 'Fred Trueman': 1,\n",
       " 'Courtney Walsh': 1,\n",
       " 'JYVASKYLA': 1,\n",
       " 'Mitsubishi': 1,\n",
       " 'SPANISH': 1,\n",
       " 'MADRID': 1,\n",
       " 'Spanish': 2,\n",
       " 'Real Madrid': 1,\n",
       " 'Davor Suker': 1,\n",
       " 'Predrag Mijatovic': 1,\n",
       " 'Barcelona': 3,\n",
       " 'CANADIAN OPEN': 1,\n",
       " 'Canadian Open': 1,\n",
       " 'Wayne Ferreira': 1,\n",
       " 'South Africa': 4,\n",
       " 'Todd Martin': 1,\n",
       " 'Todd Woodbridge': 1,\n",
       " 'Marcelo Rios': 1,\n",
       " 'Chile': 3,\n",
       " 'BRASILIA': 1,\n",
       " 'Jesus': 1,\n",
       " 'Brazilian': 1,\n",
       " 'Fernando Henrique Cardoso': 1,\n",
       " 'Para': 1,\n",
       " 'Lucas Moreira Neves': 1,\n",
       " 'Catholic': 1,\n",
       " 'Bureau of Land Management': 1,\n",
       " 'BELGIAN': 1,\n",
       " 'FINNISH': 1,\n",
       " 'Belgian': 1,\n",
       " 'Danish': 1,\n",
       " 'Jyvaskyla': 1,\n",
       " 'Hendrix': 1,\n",
       " 'Jimi Hendrix': 1,\n",
       " 'Nottingham': 1,\n",
       " 'Australian': 2,\n",
       " 'Josh Beckett': 1,\n",
       " 'Nicaraguan': 1,\n",
       " 'MANAGUA': 1,\n",
       " 'Nicaragua': 1,\n",
       " 'Violeta Chamorro': 1,\n",
       " 'Chamorro': 1,\n",
       " 'Taiwan': 1,\n",
       " 'Kurd': 2,\n",
       " 'ANKARA': 1,\n",
       " 'Iraqi Kurdish': 1,\n",
       " 'Patriotic Union of Kurdistan': 1,\n",
       " 'PUK': 1,\n",
       " 'Saddam Hussein': 1,\n",
       " 'Kurdistan Democratic Party': 1,\n",
       " 'KDP': 1,\n",
       " 'Iran': 1,\n",
       " 'Operation Provide Comfort': 1,\n",
       " 'Los Angeles Lakers': 1,\n",
       " 'Kobe Bryant': 1,\n",
       " 'Muster': 1,\n",
       " 'Philippoussis': 1,\n",
       " 'Stoltenberg': 1,\n",
       " 'Thomas Muster': 1,\n",
       " 'Daniel Nestor': 1,\n",
       " 'Canada': 2,\n",
       " 'Nestor': 1,\n",
       " 'Goran Ivanisevic': 1,\n",
       " 'Mikael Tillstrom': 1,\n",
       " 'Sweden': 3,\n",
       " 'MaliVai Washington': 1,\n",
       " 'Marc Rosset': 1,\n",
       " 'Mark Philippoussis': 1,\n",
       " 'Jason Stoltenberg': 1,\n",
       " 'Daniel Vacek': 1,\n",
       " 'Czech Republic': 4,\n",
       " 'Austrian': 3,\n",
       " 'Ivanisevic': 1,\n",
       " 'Stefan Edberg': 1,\n",
       " 'Indianapolis': 2,\n",
       " 'Pete Sampras': 1,\n",
       " 'Toronto': 3,\n",
       " 'Sampras': 1,\n",
       " 'Australian Open': 1,\n",
       " 'Rosset': 1,\n",
       " 'Foley': 1,\n",
       " 'Todd Watson': 1,\n",
       " 'Costa Rica': 2,\n",
       " 'Hashimoto': 1,\n",
       " 'SAN JOSE': 2,\n",
       " 'Richter': 1,\n",
       " 'Japanese': 1,\n",
       " 'Ryutaro Hashimoto': 1,\n",
       " 'San Jose': 2,\n",
       " 'Latin American': 1,\n",
       " 'Athens Regional Medical Center': 1,\n",
       " 'LEICESTERSHIRE': 1,\n",
       " 'West Indian': 1,\n",
       " 'Phil Simmons': 1,\n",
       " 'Derbyshire': 1,\n",
       " 'Grace Road': 1,\n",
       " 'Andy Caddick': 1,\n",
       " 'Simmons': 1,\n",
       " 'Nasser Hussain': 1,\n",
       " 'Peter Such': 1,\n",
       " 'Hussain': 1,\n",
       " 'Such': 1,\n",
       " 'Oval': 1,\n",
       " 'Mark Butcher': 1,\n",
       " 'Tom Moody': 1,\n",
       " 'Chris Adams': 1,\n",
       " 'Paul Johnson': 2,\n",
       " 'Martin McCague': 1,\n",
       " 'AMTRAK': 1,\n",
       " 'MONTPELIER': 1,\n",
       " 'Amtrak': 1,\n",
       " 'Roxbury': 1,\n",
       " 'Montpelier': 1,\n",
       " 'VIENNA': 1,\n",
       " 'Lenzing AG': 1,\n",
       " 'Vienna': 1,\n",
       " 'Jakarta': 1,\n",
       " 'International Chamber of Commerce': 1,\n",
       " 'London Metal Exchange': 1,\n",
       " 'Maryland State Police': 1,\n",
       " 'Whittall': 1,\n",
       " 'S. Waugh': 1,\n",
       " 'Campbell': 1,\n",
       " 'Streak': 2,\n",
       " 'Brandes': 1,\n",
       " 'Flower': 1,\n",
       " 'Shah': 1,\n",
       " 'Hogg': 1,\n",
       " 'Ponting': 1,\n",
       " 'McGrath': 2,\n",
       " 'Healy': 1,\n",
       " 'Reiffel': 1,\n",
       " 'CANBERRA': 1,\n",
       " 'Reserve Bank of Australia': 1,\n",
       " 'Coalition': 1,\n",
       " 'Algeria': 1,\n",
       " 'Algerian': 1,\n",
       " 'Algiers': 2,\n",
       " 'El-Watan': 1,\n",
       " 'Algerians': 1,\n",
       " 'Islamists': 1,\n",
       " 'Coalition Avenir Quebec': 1,\n",
       " 'Francois Legault': 1,\n",
       " 'Major League Baseball': 1,\n",
       " 'AMERICAN LEAGUE EASTERN DIVISION': 1,\n",
       " 'BALTIMORE': 3,\n",
       " 'BOSTON': 4,\n",
       " 'CENTRAL DIVISION': 3,\n",
       " 'CLEVELAND': 3,\n",
       " 'MINNESOTA': 3,\n",
       " 'KANSAS CITY': 3,\n",
       " 'WESTERN DIVISION': 1,\n",
       " 'NATIONAL LEAGUE EASTERN DIVISION': 1,\n",
       " 'ATLANTA': 4,\n",
       " 'FLORIDA': 2,\n",
       " 'HOUSTON': 5,\n",
       " 'SAN DIEGO': 3,\n",
       " 'LOS ANGELES': 3,\n",
       " 'COLORADO': 2,\n",
       " 'SAN FRANCISCO': 3,\n",
       " 'DUBLIN': 1,\n",
       " 'Tom Johnson': 1,\n",
       " 'IBF': 1,\n",
       " 'Indonesia': 2,\n",
       " 'Belo': 1,\n",
       " 'Nobel': 1,\n",
       " 'DILI': 1,\n",
       " 'East Timor': 1,\n",
       " 'East Timorese': 1,\n",
       " 'Roman Catholic': 1,\n",
       " 'Carlos Belo': 1,\n",
       " 'Dili': 1,\n",
       " 'Nobel Peace Prize': 1,\n",
       " 'Indonesian': 1,\n",
       " 'Oslo': 1,\n",
       " 'Jose Ramos Horta': 1,\n",
       " 'Ramos Horta': 1,\n",
       " 'Ali Alatas': 1,\n",
       " 'Norwegian': 1,\n",
       " 'Alatas': 1,\n",
       " 'Organisation of the Islamic Conference': 1,\n",
       " 'OIC': 1,\n",
       " 'Portuguese': 2,\n",
       " 'Vatican': 3,\n",
       " 'Helmut Kohl': 1,\n",
       " 'Bonn': 1,\n",
       " 'Kohl': 1,\n",
       " 'NOVYE ATAGI': 1,\n",
       " 'Chechen': 1,\n",
       " 'Grozny': 1,\n",
       " 'CBI': 1,\n",
       " 'Confederation of British Industry': 1,\n",
       " 'GERMAN': 1,\n",
       " 'ITALIAN': 1,\n",
       " 'FTSE 100': 1,\n",
       " 'Associated Press': 1,\n",
       " 'KARACHI': 1,\n",
       " 'Karachi': 1,\n",
       " 'BLIND': 1,\n",
       " 'Danny Blind': 1,\n",
       " 'ANP': 1,\n",
       " 'Blind': 1,\n",
       " '1990 World Cup': 1,\n",
       " '1992 European championship': 1,\n",
       " 'GOOCH': 1,\n",
       " 'ESSEX': 2,\n",
       " 'Graham Gooch': 1,\n",
       " 'Gooch': 1,\n",
       " 'Keith Fletcher': 1,\n",
       " 'KLINSMANN': 1,\n",
       " '1998 WORLD CUP': 1,\n",
       " 'BONN': 1,\n",
       " 'Juergen Klinsmann': 1,\n",
       " 'Sueddeutsche Zeitung': 1,\n",
       " 'Klinsmann': 1,\n",
       " 'Berti Vogts': 1,\n",
       " 'Euro 96': 1,\n",
       " 'ZURICH': 1,\n",
       " 'Andrea Ferrigato': 1,\n",
       " 'Michele Bartoli': 1,\n",
       " 'Johan Museeuw': 1,\n",
       " 'Belgium': 3,\n",
       " 'Lance Armstrong': 1,\n",
       " 'Francesco Casagrande': 1,\n",
       " 'Frank Vandenbroucke': 1,\n",
       " 'Fabio Baldato': 1,\n",
       " 'Maurizio Fondriest': 1,\n",
       " 'Laurent Jalabert': 1,\n",
       " 'Museeuw': 1,\n",
       " 'Ferrigato': 1,\n",
       " 'Bartoli': 1,\n",
       " 'Stefano Zanini': 1,\n",
       " 'Armstrong': 1,\n",
       " 'Baldato': 1,\n",
       " 'Alexandre Gontchenkov': 1,\n",
       " 'Ukraine': 2,\n",
       " 'Gabriele Colombo': 1,\n",
       " 'Andrei Tchmil': 1,\n",
       " 'Max Sciandri': 1,\n",
       " 'HINCHCLIFFE': 1,\n",
       " 'Glenn Hoddle': 1,\n",
       " 'Andy Hinchcliffe': 1,\n",
       " 'Moldova': 2,\n",
       " 'Hinchcliffe': 1,\n",
       " 'Tottenham': 1,\n",
       " 'Darren Anderton': 1,\n",
       " 'MU': 1,\n",
       " 'Doc Holliday': 1,\n",
       " 'MELBOURNE': 1,\n",
       " 'Australian Rules': 1,\n",
       " 'Adelaide': 2,\n",
       " 'Collingwood': 1,\n",
       " 'West Coast': 1,\n",
       " 'Melbourne': 2,\n",
       " 'Richmond': 1,\n",
       " 'Fitzroy': 1,\n",
       " 'Carlton': 1,\n",
       " 'Footscray': 1,\n",
       " 'Essendon': 1,\n",
       " 'Sydney': 3,\n",
       " 'St Kilda': 1,\n",
       " 'Hawthorn': 1,\n",
       " 'Brisbane': 3,\n",
       " 'Fremantle': 1,\n",
       " 'North Melbourne': 1,\n",
       " 'Geelong': 1,\n",
       " 'RAMESWARAM': 1,\n",
       " 'Indian': 3,\n",
       " 'LTTE': 1,\n",
       " 'Liberation Tigers of Tamil Eelam': 1,\n",
       " 'Rameswaram': 1,\n",
       " 'Tamil Nadu': 1,\n",
       " 'M. Karunanidhi': 1,\n",
       " 'Colombo': 1,\n",
       " 'Tamils': 1,\n",
       " 'Sri Lankan': 2,\n",
       " 'Palk Strait': 1,\n",
       " 'Pesalai': 1,\n",
       " 'BALCO': 1,\n",
       " 'Victor Conte': 1,\n",
       " 'U.S. Treasury': 1,\n",
       " 'Group of Five': 1,\n",
       " 'Gerhard Stoltenberg': 1,\n",
       " 'Bundesbank': 1,\n",
       " 'Karl Otto Poehl': 1,\n",
       " 'Edouard Balladur': 1,\n",
       " 'Jacques de Larosiere': 1,\n",
       " 'Kiichi Miyazawa': 1,\n",
       " 'Satoshi Sumita': 1,\n",
       " 'Robin Leigh Pemberton': 1,\n",
       " 'Group of Seven': 1,\n",
       " 'Giovanni Goria': 1,\n",
       " 'Treasury': 1,\n",
       " 'James Baker': 1,\n",
       " 'Baker': 1,\n",
       " 'Goria': 1,\n",
       " 'Paris': 4,\n",
       " 'Bologna': 2,\n",
       " 'NBA': 1,\n",
       " 'National Basketball Association': 1,\n",
       " 'ATLANTIC': 2,\n",
       " 'MIAMI': 3,\n",
       " 'ORLANDO': 1,\n",
       " 'NEW JERSEY': 2,\n",
       " 'INDIANA': 1,\n",
       " 'CHARLOTTE': 1,\n",
       " 'UTAH': 1,\n",
       " 'DALLAS': 4,\n",
       " 'DENVER': 3,\n",
       " 'SAN ANTONIO': 1,\n",
       " 'VANCOUVER': 3,\n",
       " 'PACIFIC': 2,\n",
       " 'LA LAKERS': 1,\n",
       " 'PORTLAND': 1,\n",
       " 'LA CLIPPERS': 1,\n",
       " 'GOLDEN STATE': 1,\n",
       " 'SACRAMENTO': 2,\n",
       " 'PHOENIX': 3,\n",
       " 'Glickman': 1,\n",
       " 'USDA': 1,\n",
       " 'Texas': 2,\n",
       " 'Dan Glickman': 1,\n",
       " 'Egypt': 1,\n",
       " 'Bayern Munich': 1,\n",
       " 'URUS-MARTAN': 1,\n",
       " 'Dzhokhar Dudayev': 1,\n",
       " 'North Caucasus': 1,\n",
       " 'Dudayeva': 1,\n",
       " 'Urus-Martan': 1,\n",
       " 'Doku Zavgayev': 1,\n",
       " 'God': 1,\n",
       " 'Islamic': 2,\n",
       " 'University of Pennsylvania': 1,\n",
       " 'OPEC': 1,\n",
       " 'Saudi Arabia': 1,\n",
       " 'UAE': 2,\n",
       " 'Mexico': 3,\n",
       " 'Isthmus': 1,\n",
       " 'Boulder': 1,\n",
       " 'Colo.': 1,\n",
       " 'Albanian': 4,\n",
       " 'TIRANA': 1,\n",
       " 'Sali Berisha': 1,\n",
       " 'Berisha': 1,\n",
       " 'Italian': 2,\n",
       " 'Oscar Luigi Scalfaro': 1,\n",
       " 'Tirana': 1,\n",
       " 'BRITISH MASTERS': 1,\n",
       " 'NORTHAMPTON': 1,\n",
       " 'British Masters': 1,\n",
       " 'Robert Allenby': 1,\n",
       " 'Mark Roe': 1,\n",
       " 'Spain': 2,\n",
       " 'Daniel Chopra': 1,\n",
       " 'David Gilford': 1,\n",
       " 'Costantino Rocca': 1,\n",
       " 'Colin Montgomerie': 1,\n",
       " 'David Howell': 1,\n",
       " 'Mark Davis': 1,\n",
       " 'Peter Mitchell': 1,\n",
       " 'Philip Walton': 1,\n",
       " 'Ireland': 5,\n",
       " 'Retief Goosen': 1,\n",
       " 'Ove Sellberg': 1,\n",
       " 'Peter Hedblom': 1,\n",
       " 'Pedro Linhart': 1,\n",
       " 'Emanuele Canonica': 1,\n",
       " 'Miguel Angel Martin': 1,\n",
       " 'Iain Pyman': 1,\n",
       " 'Eduardo Romero': 1,\n",
       " 'Argentina': 2,\n",
       " 'Ian Woosnam': 1,\n",
       " 'Miguel Angel Jimenez': 1,\n",
       " 'Klas Eriksson': 1,\n",
       " 'Paul Eales': 1,\n",
       " 'Paul Curry': 1,\n",
       " 'Andrew Coltart': 1,\n",
       " 'Paul Lawrie': 1,\n",
       " 'Jose Coceres': 1,\n",
       " 'Raymond Russell': 1,\n",
       " 'Roger Chapman': 1,\n",
       " 'Paul Affleck': 1,\n",
       " 'Major': 1,\n",
       " 'John Major': 1,\n",
       " 'Conservative': 1,\n",
       " 'John Gorst': 1,\n",
       " 'Gorst': 1,\n",
       " 'Downing Street': 1,\n",
       " 'RUSSIA': 1,\n",
       " 'Yuri Nikiforov': 1,\n",
       " 'Ronaldo': 1,\n",
       " 'Kashmir': 1,\n",
       " 'SRINAGAR': 1,\n",
       " 'Srinagar': 1,\n",
       " 'New Delhi': 1,\n",
       " 'Gupta': 1,\n",
       " 'H.D. Deve Gowda': 1,\n",
       " 'RUGBY LEAGUE': 2,\n",
       " 'SYDNEY': 1,\n",
       " 'Manly': 1,\n",
       " 'North Sydney': 1,\n",
       " 'Sydney City': 1,\n",
       " 'Cronulla': 1,\n",
       " 'Canberra': 3,\n",
       " 'St George': 2,\n",
       " 'Western Suburbs': 1,\n",
       " 'Sydney Tigers': 1,\n",
       " 'Parramatta': 1,\n",
       " 'Sydney Bulldogs': 1,\n",
       " 'Illawarra': 1,\n",
       " 'Western Reds': 1,\n",
       " 'Penrith': 1,\n",
       " 'North Queensland': 1,\n",
       " 'Gold Coast': 2,\n",
       " 'South Sydney': 1,\n",
       " 'South Queensland': 1,\n",
       " 'ISO 9002': 1,\n",
       " 'Bureau Veritas': 1,\n",
       " 'Alicante': 1,\n",
       " 'Bilbao': 1,\n",
       " 'Madrid': 2,\n",
       " 'Seville': 1,\n",
       " 'Valencia': 2,\n",
       " 'Suiker Unie': 1,\n",
       " 'AEX': 1,\n",
       " 'Wall Street': 2,\n",
       " 'IHC Caland': 1,\n",
       " 'ING': 1,\n",
       " 'Nutricia': 1,\n",
       " 'Dow': 2,\n",
       " 'U.S': 1,\n",
       " 'DAX': 1,\n",
       " 'CGT': 1,\n",
       " 'Bank of Japan': 1,\n",
       " 'BOJ': 1,\n",
       " 'Frankfurt': 4,\n",
       " 'Nebraska': 2,\n",
       " 'OMAHA': 1,\n",
       " 'Dini': 1,\n",
       " 'Burundi': 2,\n",
       " 'Nyerere': 1,\n",
       " 'ROME': 1,\n",
       " 'Lamberto Dini': 1,\n",
       " 'Tanzanian': 1,\n",
       " 'Julius Nyerere': 1,\n",
       " 'Rome': 1,\n",
       " 'Howard Wolpe': 1,\n",
       " 'Great Lakes': 1,\n",
       " 'U.N. Security Council': 1,\n",
       " 'Tutsi': 1,\n",
       " 'Pierre Buyoya': 1,\n",
       " 'Buyoya': 1,\n",
       " 'Hutu': 1,\n",
       " 'Chicago White Sox': 1,\n",
       " 'Kevin Youkilis': 1,\n",
       " 'HARLEYSVILLE': 1,\n",
       " 'Kurds': 2,\n",
       " 'Rawandouz': 1,\n",
       " 'Hospital': 1,\n",
       " 'Basra': 1,\n",
       " 'Mir-Hossein Mousavi': 1,\n",
       " 'Mousavi': 1,\n",
       " 'British Broadcasting Corporation': 1,\n",
       " 'Saddam': 1,\n",
       " 'Iranian news agency IRNA': 1,\n",
       " 'Ahvaz': 1,\n",
       " 'Thai': 1,\n",
       " 'Hong Kong': 1,\n",
       " ...}"
      ]
     },
     "execution_count": 42,
     "metadata": {},
     "output_type": "execute_result"
    }
   ],
   "source": [
    "ambiguity={}\n",
    "for form,meanings in interpretations.items():\n",
    "    ambiguity[form]=len(meanings)\n",
    "ambiguity"
   ]
  },
  {
   "cell_type": "code",
   "execution_count": 43,
   "metadata": {
    "collapsed": true
   },
   "outputs": [],
   "source": [
    "agg_per_ambiguity=defaultdict(int)\n",
    "for form, amb in ambiguity.items():\n",
    "    agg_per_ambiguity[amb]+=1"
   ]
  },
  {
   "cell_type": "code",
   "execution_count": 44,
   "metadata": {},
   "outputs": [
    {
     "data": {
      "text/plain": [
       "defaultdict(int, {1: 7037, 2: 381, 3: 84, 4: 29, 5: 10, 6: 3, 12: 1})"
      ]
     },
     "execution_count": 44,
     "metadata": {},
     "output_type": "execute_result"
    }
   ],
   "source": [
    "agg_per_ambiguity"
   ]
  },
  {
   "cell_type": "code",
   "execution_count": 45,
   "metadata": {},
   "outputs": [
    {
     "data": {
      "image/png": "[encoded data removed]",
      "text/plain": [
       "<matplotlib.figure.Figure at 0x11a360e48>"
      ]
     },
     "metadata": {},
     "output_type": "display_data"
    }
   ],
   "source": [
    "import matplotlib.pyplot as plt\n",
    "\n",
    "plt.plot(list(agg_per_ambiguity.keys()), list(agg_per_ambiguity.values()), 'ro')\n",
    "plt.show()"
   ]
  },
  {
   "cell_type": "code",
   "execution_count": 46,
   "metadata": {},
   "outputs": [
    {
     "data": {
      "text/plain": [
       "508"
      ]
     },
     "execution_count": 46,
     "metadata": {},
     "output_type": "execute_result"
    }
   ],
   "source": [
    "sum(i for j,i in agg_per_ambiguity.items() if j>1)"
   ]
  },
  {
   "cell_type": "code",
   "execution_count": 47,
   "metadata": {},
   "outputs": [
    {
     "name": "stdout",
     "output_type": "stream",
     "text": [
      "['AIDA (with NILs)', 'AIDA (with NILs)', 'AIDA (with NILs)', 'AIDA (with NILs)', 'AIDA (with NILs)', 'AIDA (with NILs)', 'AIDA (with NILs)', 'AIDA (with NILs)', 'AIDA (with NILs)', 'AIDA (with NILs)', 'AIDA (with NILs)', 'AIDA (with NILs)', 'AIDA (with NILs)', 'AIDA (without NILs)', 'AIDA (without NILs)', 'AIDA (without NILs)', 'AIDA (without NILs)', 'AIDA (without NILs)', 'AIDA (without NILs)', 'AIDA (without NILs)', 'AIDA (without NILs)', 'AIDA (without NILs)', 'AIDA (without NILs)', 'AIDA (without NILs)', 'AIDA (without NILs)', 'AIDA (without NILs)', 'WES2015', 'WES2015', 'WES2015', 'WES2015', 'WES2015', 'WES2015', 'WES2015', 'WES2015', 'WES2015', 'WES2015', 'WES2015', 'WES2015', 'WES2015', 'both', 'both', 'both', 'both', 'both', 'both', 'both', 'both', 'both', 'both', 'both', 'both', 'both'] [1, 2, 3, 4, 5, 6, 7, 8, 9, 10, 11, 12, 13, 1, 2, 3, 4, 5, 6, 7, 8, 9, 10, 11, 12, 13, 1, 2, 3, 4, 5, 6, 7, 8, 9, 10, 11, 12, 13, 1, 2, 3, 4, 5, 6, 7, 8, 9, 10, 11, 12, 13] [10393, 465, 114, 26, 13, 2, 1, 0, 0, 0, 0, 0, 1, 6400, 359, 78, 29, 7, 3, 0, 0, 0, 0, 0, 0, 0, 12265, 432, 68, 14, 5, 2, 0, 0, 0, 0, 0, 0, 0, 18234, 813, 160, 49, 16, 6, 1, 0, 0, 0, 0, 1, 0]\n",
      "ambiguity level         1    2    3   4   5   6   7   8   9   10  11  12  13\n",
      "dataset                                                                     \n",
      "AIDA (with NILs)     10393  465  114  26  13   2   1   0   0   0   0   0   1\n",
      "AIDA (without NILs)   6400  359   78  29   7   3   0   0   0   0   0   0   0\n",
      "WES2015              12265  432   68  14   5   2   0   0   0   0   0   0   0\n",
      "both                 18234  813  160  49  16   6   1   0   0   0   0   1   0\n"
     ]
    },
    {
     "data": {
      "image/png": "[encoded data removed]",
      "text/plain": [
       "<matplotlib.figure.Figure at 0x1158ee668>"
      ]
     },
     "metadata": {},
     "output_type": "display_data"
    }
   ],
   "source": [
    "plot_utils.annotated_heatmap(['AIDA (with NILs)', 'AIDA (without NILs)', 'WES2015', 'both'], \n",
    "                  [1,2,3,4,5,6,7,8,9,10,11,12,13], \n",
    "                  [10393, 465, 114, 26, 13, 2, 1, 0, 0, 0, 0, 0, 1,\n",
    "                   6400, 359, 78, 29, 7, 3, 0, 0, 0, 0, 0, 0, 0,\n",
    "                    12265, 432, 68, 14, 5, 2, 0, 0, 0, 0, 0, 0, 0,\n",
    "                   18234, 813, 160, 49, 16, 6, 1, 0, 0, 0, 0, 1, 0\n",
    "                  ], \n",
    "                 x_lbl='ambiguity level')"
   ]
  },
  {
   "cell_type": "markdown",
   "metadata": {},
   "source": [
    "#### AIDA: This means that there are 622 (or 477 without NILs) out of ~11k forms that have some ambiguity in the data"
   ]
  },
  {
   "cell_type": "markdown",
   "metadata": {},
   "source": [
    "### 9) Aggregation per variance\n",
    "\n",
    "<span style=\"background-color:lightgreen\">Section 5.3. of the paper</span>"
   ]
  },
  {
   "cell_type": "code",
   "execution_count": null,
   "metadata": {},
   "outputs": [],
   "source": [
    "variance={}\n",
    "for meaning,forms in references.items():\n",
    "    variance[meaning]=len(forms)\n",
    "variance"
   ]
  },
  {
   "cell_type": "code",
   "execution_count": null,
   "metadata": {
    "collapsed": true
   },
   "outputs": [],
   "source": [
    "agg_per_variance=defaultdict(int)\n",
    "for uri, v in variance.items():\n",
    "    agg_per_variance[v]+=1"
   ]
  },
  {
   "cell_type": "code",
   "execution_count": null,
   "metadata": {},
   "outputs": [],
   "source": [
    "agg_per_variance"
   ]
  },
  {
   "cell_type": "code",
   "execution_count": null,
   "metadata": {},
   "outputs": [],
   "source": [
    "sum(i for j,i in agg_per_variance.items() if j>1)"
   ]
  },
  {
   "cell_type": "code",
   "execution_count": null,
   "metadata": {},
   "outputs": [],
   "source": [
    "plot_utils.annotated_heatmap(['AIDA (without NILs)', 'WES2015', 'both'],\n",
    "                  [1,2,3,4,5,6,7,8,9,10,11,12,13,14,15,16,17,18],\n",
    "                  [4156, 1118, 230, 56, 19, 10, 6, 0, 1, 1, 1, 0, 0, 0, 0, 0, 0, 0,\n",
    "                  7153, 1456, 502, 212, 92, 40, 15, 11, 3, 0, 0, 5, 1, 1, 0, 0, 0, 0,\n",
    "                   10924, 2530, 759, 278, 110, 50, 19, 17, 6, 1, 1, 6, 0, 1, 0, 0, 0, 1\n",
    "                  ],\n",
    "                  x_lbl='variance level'\n",
    ")"
   ]
  },
  {
   "cell_type": "markdown",
   "metadata": {},
   "source": [
    "### 10) Correlation between frequency of forms and ambiguity\n",
    "\n",
    "<span style=\"background-color:lightgreen\">Section 5.4. of the paper</span>"
   ]
  },
  {
   "cell_type": "code",
   "execution_count": null,
   "metadata": {},
   "outputs": [],
   "source": [
    "plot_utils.frequency_correlation(ambiguity, \n",
    "                                 all_cnt_forms, \n",
    "                                 title='Correlation between form ambiguity and frequency', \n",
    "                                 x_label='Ambiguity of forms', \n",
    "                                 y_label='Frequency of forms',\n",
    "                                 save=save)"
   ]
  },
  {
   "cell_type": "code",
   "execution_count": null,
   "metadata": {
    "collapsed": true
   },
   "outputs": [],
   "source": [
    "import numpy as np\n",
    "import matplotlib.pyplot as plt\n",
    "\n",
    "from sklearn.linear_model import Ridge\n",
    "from sklearn.preprocessing import PolynomialFeatures\n",
    "from sklearn.pipeline import make_pipeline\n",
    "\n",
    "\n"
   ]
  },
  {
   "cell_type": "code",
   "execution_count": null,
   "metadata": {},
   "outputs": [],
   "source": [
    "form_y_freq, form_x_amb = plot_utils.prepare_scatter_plot(\n",
    "    all_cnt_forms, ambiguity)\n",
    "\n",
    "plot_utils.scatter_plot(form_x_amb, form_y_freq,\n",
    "                        x_axis='Ambiguity',\n",
    "                        y_axis='Frequency',\n",
    "                        title='Correlation between ambiguity and frequency (SCATTER PLOT)',\n",
    "                        save=True,\n",
    "                        degree=1\n",
    "                        )\n"
   ]
  },
  {
   "cell_type": "code",
   "execution_count": null,
   "metadata": {},
   "outputs": [],
   "source": [
    "correlation, significance = spearmanr(form_x_amb,form_y_freq)\n",
    "print('The Spearman correlation between X and Y is:', correlation, '. Significance: ', significance)"
   ]
  },
  {
   "cell_type": "code",
   "execution_count": null,
   "metadata": {},
   "outputs": [],
   "source": [
    "plot_utils.plot_line_with_whiskers(form_x_amb, np.log(form_y_freq),\n",
    "                        xl='ambiguity',\n",
    "                        yl='Log(frequency)',\n",
    "                        title='Correlation between FORM ambiguity and frequency',\n",
    "                        save=save)"
   ]
  },
  {
   "cell_type": "code",
   "execution_count": null,
   "metadata": {},
   "outputs": [],
   "source": [
    "%matplotlib inline\n",
    "import seaborn as sns\n",
    "import pandas as pd\n",
    "sns.set(style='white')\n",
    "\n",
    "print(type(form_x_amb), type(form_y_freq))\n",
    "x1 = pd.Series(form_x_amb, name=\"$X_1$\")\n",
    "x2 = pd.Series(form_y_freq, name=\"$X_2$\")\n",
    "g=sns.jointplot(x1, x2, kind='kde', size=7, space=0)"
   ]
  },
  {
   "cell_type": "code",
   "execution_count": null,
   "metadata": {
    "collapsed": true
   },
   "outputs": [],
   "source": [
    "bp_data = plot_utils.prepare_box_plot(form_x_amb, form_y_freq)"
   ]
  },
  {
   "cell_type": "code",
   "execution_count": null,
   "metadata": {},
   "outputs": [],
   "source": [
    "plot_utils.box_plot(bp_data, x_axis='Ambiguity', \n",
    "                    y_axis='Frequency',\n",
    "                    title='Correlation between ambiguity and frequency (BOX PLOT)',\n",
    "                    y_lim=200,\n",
    "                    save=save)"
   ]
  },
  {
   "cell_type": "markdown",
   "metadata": {},
   "source": [
    "### 11) Correlation between frequency of instances and variance\n",
    "\n",
    "<span style=\"background-color:lightgreen\">Section 5.4. of the paper</span>"
   ]
  },
  {
   "cell_type": "code",
   "execution_count": null,
   "metadata": {},
   "outputs": [],
   "source": [
    "plot_utils.frequency_correlation(variance, \n",
    "                                 all_cnt_instances, \n",
    "                                 title='Correlation between instance variance and frequency (LINE PLOT)', \n",
    "                                 x_label='Variance of instances', \n",
    "                                 y_label='Frequency of instances',\n",
    "                                 xlim=[1,15],\n",
    "                                 save=save)"
   ]
  },
  {
   "cell_type": "code",
   "execution_count": null,
   "metadata": {},
   "outputs": [],
   "source": [
    "\n",
    "insta_y_freq, insta_x_var = plot_utils.prepare_scatter_plot(\n",
    "    all_cnt_instances, variance)\n",
    "\n",
    "\n",
    "plot_utils.scatter_plot(insta_x_var, insta_y_freq, \n",
    "                        x_axis='Variance',\n",
    "                        y_axis='Frequency',\n",
    "                        title='Correlation between variance of instances and frequency (SCATTER PLOT)',\n",
    "                        save=True\n",
    "                        )\n"
   ]
  },
  {
   "cell_type": "code",
   "execution_count": null,
   "metadata": {},
   "outputs": [],
   "source": [
    "correlation, significance = spearmanr(insta_x_var, insta_y_freq)\n",
    "print('The Spearman correlation between X and Y is:', correlation, '. Significance: ', significance)"
   ]
  },
  {
   "cell_type": "code",
   "execution_count": null,
   "metadata": {},
   "outputs": [],
   "source": [
    "plot_utils.plot_line_with_whiskers(insta_x_var, np.log(insta_y_freq),\n",
    "                        xl='variance',\n",
    "                        yl='Log(frequency)',\n",
    "                        title='Correlation between INSTANCE variance and frequency',\n",
    "                        xlim=[0,None],\n",
    "                        save=save)"
   ]
  },
  {
   "cell_type": "code",
   "execution_count": null,
   "metadata": {
    "collapsed": true
   },
   "outputs": [],
   "source": [
    "bp_data = plot_utils.prepare_box_plot(insta_x_var, insta_y_freq)"
   ]
  },
  {
   "cell_type": "code",
   "execution_count": null,
   "metadata": {},
   "outputs": [],
   "source": [
    "plot_utils.box_plot(bp_data, x_axis='Variance', \n",
    "                    y_axis='Frequency',\n",
    "                    title='Correlation between variance and frequency (BOX PLOT)',\n",
    "                    y_lim=200,\n",
    "                    save=save)"
   ]
  },
  {
   "cell_type": "markdown",
   "metadata": {},
   "source": [
    "### 12) Correlation between PageRank and variance\n",
    "\n",
    "<span style=\"background-color:lightgreen\">Section 5.4. of the paper</span>"
   ]
  },
  {
   "cell_type": "code",
   "execution_count": null,
   "metadata": {
    "collapsed": true
   },
   "outputs": [],
   "source": [
    "all_pr_instances = {}\n",
    "for article in all_articles:\n",
    "    for mention in article.entity_mentions:\n",
    "        if mention.gold_link!='--NME--' and (not skip_zeros or int(mention.gold_pr)>0):\n",
    "            all_pr_instances[mention.gold_link]=int(mention.gold_pr)"
   ]
  },
  {
   "cell_type": "code",
   "execution_count": null,
   "metadata": {},
   "outputs": [],
   "source": [
    "plot_utils.frequency_correlation(variance, \n",
    "                                 all_pr_instances, \n",
    "                                 title='Correlation between variance of instances and PageRank (LINE PLOT)',\n",
    "                                 x_label='Variance of instances', \n",
    "                                 y_label='PageRank of instances',\n",
    "                                 save=save)"
   ]
  },
  {
   "cell_type": "code",
   "execution_count": null,
   "metadata": {},
   "outputs": [],
   "source": [
    "insta_y_pr, insta_x_var2 = plot_utils.prepare_scatter_plot(\n",
    "    all_pr_instances, variance)\n",
    "\n",
    "plot_utils.scatter_plot(insta_x_var2, insta_y_pr, \n",
    "                        x_axis='Variance',\n",
    "                        y_axis='PageRank',\n",
    "                        title='Correlation between variance of instances and PageRank (SCATTER PLOT)',\n",
    "                        save=True\n",
    "                        )"
   ]
  },
  {
   "cell_type": "code",
   "execution_count": null,
   "metadata": {},
   "outputs": [],
   "source": [
    "correlation, significance = spearmanr(insta_x_var2, insta_y_pr)\n",
    "print('The Spearman correlation between X and Y is:', correlation, '. Significance: ', significance)"
   ]
  },
  {
   "cell_type": "code",
   "execution_count": null,
   "metadata": {},
   "outputs": [],
   "source": [
    "plot_utils.plot_line_with_whiskers(insta_x_var2, np.log(insta_y_pr),\n",
    "                        xl='variance',\n",
    "                        yl='Log(PageRank)',\n",
    "                        title='Correlation between INSTANCE variance and PageRank',\n",
    "                        xlim=[0,None],\n",
    "                        save=save)"
   ]
  },
  {
   "cell_type": "code",
   "execution_count": null,
   "metadata": {
    "collapsed": true
   },
   "outputs": [],
   "source": [
    "bp_data = plot_utils.prepare_box_plot(insta_x_var2, insta_y_pr)"
   ]
  },
  {
   "cell_type": "code",
   "execution_count": null,
   "metadata": {},
   "outputs": [],
   "source": [
    "plot_utils.box_plot(bp_data, x_axis='Variance', \n",
    "                    y_axis='PageRank',\n",
    "                    title='Correlation between variance and PageRank (BOX PLOT)',\n",
    "                    y_lim=2000,\n",
    "                    save=save)"
   ]
  },
  {
   "cell_type": "markdown",
   "metadata": {},
   "source": [
    "### 13) Correlation between PageRank and frequency"
   ]
  },
  {
   "cell_type": "code",
   "execution_count": null,
   "metadata": {},
   "outputs": [],
   "source": [
    "all_pr_instances"
   ]
  },
  {
   "cell_type": "code",
   "execution_count": null,
   "metadata": {
    "scrolled": true
   },
   "outputs": [],
   "source": [
    "plot_utils.frequency_correlation(all_pr_instances, \n",
    "                                 all_cnt_instances, \n",
    "                                 title='Correlation between PageRank of instances and frequency (LINE PLOT)', \n",
    "                                 x_label='PageRank of instances', \n",
    "                                 y_label='Frequency of instances',\n",
    "                                 save=save)"
   ]
  },
  {
   "cell_type": "code",
   "execution_count": null,
   "metadata": {},
   "outputs": [],
   "source": [
    "insta_x_pr_2, insta_y_freq2 = plot_utils.prepare_scatter_plot(\n",
    "    all_pr_instances, all_cnt_instances)\n",
    "\n",
    "plot_utils.scatter_plot(np.log(insta_x_pr_2), np.log(insta_y_freq2), \n",
    "                        x_axis='Log(PageRank)',\n",
    "                        y_axis='Log(Frequency)',\n",
    "                        title='Correlation between PageRank of instances and corpus frequency (SCATTER PLOT)',\n",
    "                        save=True\n",
    "                        )"
   ]
  },
  {
   "cell_type": "code",
   "execution_count": null,
   "metadata": {
    "collapsed": true
   },
   "outputs": [],
   "source": [
    "log1, log2=np.log(insta_x_pr_2), np.log(insta_y_freq2)\n",
    "accumulate_fr_per_pr=defaultdict(list)\n",
    "for point_pr, point_fr in zip(log1, log2):\n",
    "    int_pr=int(point_pr)\n",
    "    accumulate_fr_per_pr[int_pr].append(point_fr)"
   ]
  },
  {
   "cell_type": "code",
   "execution_count": null,
   "metadata": {},
   "outputs": [],
   "source": [
    "x=[]\n",
    "y=[]\n",
    "for i in range(max(accumulate_fr_per_pr.keys())+1):\n",
    "    print(i, np.mean(accumulate_fr_per_pr[i]))\n",
    "    x.append(i)\n",
    "    y.append(np.mean(accumulate_fr_per_pr[i]))"
   ]
  },
  {
   "cell_type": "code",
   "execution_count": null,
   "metadata": {},
   "outputs": [],
   "source": [
    "fig = plt.figure()\n",
    "fake = pd.DataFrame({'pr': x, 'freq': y})\n",
    "ax = sns.barplot(x = 'pr', y = 'freq', \n",
    "              data = fake, \n",
    "              color = 'green')\n",
    "ax.set(xlabel='int (ln (PageRank))', ylabel='mean (ln (Frequency))', \n",
    "       title='Correlation between PageRank and corpus frequency (Bar plots)')\n",
    "plt.show()\n",
    "fig.savefig('img/pagerank_frequency.png')"
   ]
  },
  {
   "cell_type": "code",
   "execution_count": null,
   "metadata": {},
   "outputs": [],
   "source": [
    "correlation, significance = spearmanr(insta_x_pr_2, insta_y_freq2)\n",
    "print('The Spearman correlation between X and Y is:', correlation, '. Significance: ', significance)"
   ]
  },
  {
   "cell_type": "code",
   "execution_count": null,
   "metadata": {},
   "outputs": [],
   "source": [
    "plot_utils.plot_line_with_whiskers(insta_x_pr_2, insta_y_freq2,\n",
    "                        xl='PageRank',\n",
    "                        yl='Frequency',\n",
    "                        title='Correlation between INSTANCE PageRank and frequency',\n",
    "                        save=save)"
   ]
  },
  {
   "cell_type": "markdown",
   "metadata": {},
   "source": [
    "### 14) Inspection of the distribution within the instances of a single form\n",
    "\n",
    "<span style=\"background-color:lightgreen\">Section 5.5. of the paper</span>"
   ]
  },
  {
   "cell_type": "code",
   "execution_count": null,
   "metadata": {
    "collapsed": true,
    "scrolled": true
   },
   "outputs": [],
   "source": [
    "form='World Cup' # this is the form with max ambiguity (of 12) in our dataset\n",
    "\n",
    "insts=plot_utils.get_form_distribution(all_articles, form)\n",
    "\n",
    "import numpy as np\n",
    "import matplotlib.pyplot as plt\n",
    "ks=[]\n",
    "vs=[]\n",
    "for kv in insts:\n",
    "    ks.append(kv[0])\n",
    "    vs.append(kv[1])\n",
    "\n",
    "x = np.arange(len(ks))"
   ]
  },
  {
   "cell_type": "code",
   "execution_count": null,
   "metadata": {},
   "outputs": [],
   "source": [
    "#fig = plt.figure()\n",
    "fig, ax = plt.subplots()\n",
    "\n",
    "br = ax.barh(x, vs)\n",
    "plt.yticks(x, ks, rotation=0)\n",
    "plt.xticks([0,1,2,3,4,5,6,7,8,9,10,11,12,13,14,15,15,16,17,18,19,20])\n",
    "\n",
    "plot_utils.autolabelh(br,ax)\n",
    "\n",
    "fig.savefig('img/world_cup_form_freq.png', bbox_inches='tight')"
   ]
  },
  {
   "cell_type": "markdown",
   "metadata": {},
   "source": [
    "### 15) Inspection of the distribution of PageRank within the instances of a single form\n",
    "\n",
    "<span style=\"background-color:lightgreen\">Section 5.5. of the paper</span>"
   ]
  },
  {
   "cell_type": "code",
   "execution_count": null,
   "metadata": {},
   "outputs": [],
   "source": [
    "form='World Cup' # this is the form with max ambiguity\n",
    "import operator\n",
    "\n",
    "\n",
    "ks=[]\n",
    "vs=[]\n",
    "entries={}\n",
    "for instance in interpretations[form]:\n",
    "    print(instance, '\\t', all_pr_instances[instance])\n",
    "    entries[instance]=all_pr_instances[instance]\n",
    "\n",
    "    \n",
    "entries = sorted(entries.items(),key = operator.itemgetter(1),reverse = True)\n",
    "\n",
    "for k,v in entries:\n",
    "    ks.append(k)\n",
    "    vs.append(v)\n",
    "\n",
    "x = np.arange(len(ks))"
   ]
  },
  {
   "cell_type": "code",
   "execution_count": null,
   "metadata": {},
   "outputs": [],
   "source": [
    "fig, ax = plt.subplots()\n",
    "\n",
    "br=plt.barh(x, vs)\n",
    "plt.yticks(x, ks, rotation=0)\n",
    "plt.xticks([0,20,40,60,80,100,120,140,160,180,200])\n",
    "\n",
    "plot_utils.autolabelh(br, ax)\n",
    "\n",
    "fig.savefig('img/world_cup_form_pr.png', bbox_inches='tight')"
   ]
  },
  {
   "cell_type": "code",
   "execution_count": null,
   "metadata": {},
   "outputs": [],
   "source": [
    "prs=[]\n",
    "freqs=[]\n",
    "labels=[]\n",
    "for form2, pr in reversed(entries):\n",
    "    for form, freq in insts:\n",
    "        if form==form2:\n",
    "            print(form, freq, pr)\n",
    "            freqs.append(freq)\n",
    "            prs.append(pr)\n",
    "            labels.append(form)"
   ]
  },
  {
   "cell_type": "code",
   "execution_count": null,
   "metadata": {},
   "outputs": [],
   "source": [
    "plot_utils.scatter_plot(np.array(np.log(prs)), np.array(np.log(freqs)), \n",
    "                        x_axis='Log(PageRank)',\n",
    "                        y_axis='Log(Frequency)',\n",
    "                        title='Correlation between PageRank and frequency for instances of a single form (SCATTER PLOT)',\n",
    "                        save=True,\n",
    "                        labels=labels\n",
    "                        )"
   ]
  },
  {
   "cell_type": "code",
   "execution_count": null,
   "metadata": {},
   "outputs": [],
   "source": [
    "correlation, significance = spearmanr(prs, freqs)\n",
    "print('The Spearman correlation between X and Y is:', correlation, '. Significance: ', significance)"
   ]
  },
  {
   "cell_type": "markdown",
   "metadata": {},
   "source": [
    "### 16) Inspection of the frequency distribution within the forms of a single instance\n",
    "\n",
    "<span style=\"background-color:lightgreen\">Section 5.5. of the paper</span>"
   ]
  },
  {
   "cell_type": "code",
   "execution_count": null,
   "metadata": {
    "collapsed": true
   },
   "outputs": [],
   "source": [
    "instance='United_States' # this is both the instance with max variance and max frequency\n",
    "\n",
    "refs=plot_utils.get_instance_distribution(all_articles, instance)\n",
    "\n",
    "ks=[]\n",
    "vs=[]\n",
    "for kv in refs:\n",
    "    ks.append(kv[0])\n",
    "    vs.append(kv[1])\n",
    "\n",
    "x = np.arange(len(ks))"
   ]
  },
  {
   "cell_type": "code",
   "execution_count": null,
   "metadata": {},
   "outputs": [],
   "source": [
    "fig, ax = plt.subplots()\n",
    "\n",
    "br=plt.barh(x, vs)\n",
    "plt.yticks(x, ks, rotation=0)\n",
    "plt.xticks([0,50,100,150,200,250,300,350,400,450,500])\n",
    "plt.xlabel('Frequency of occurence')\n",
    "\n",
    "plot_utils.autolabelh(br,ax)\n",
    "\n",
    "fig.savefig('img/world_cup_insta_freq.png', bbox_inches='tight')"
   ]
  },
  {
   "cell_type": "markdown",
   "metadata": {
    "collapsed": true
   },
   "source": [
    "### 17) Entropy"
   ]
  },
  {
   "cell_type": "code",
   "execution_count": null,
   "metadata": {},
   "outputs": [],
   "source": [
    "import sys\n",
    "sys.exit()"
   ]
  },
  {
   "cell_type": "code",
   "execution_count": null,
   "metadata": {
    "collapsed": true
   },
   "outputs": [],
   "source": [
    "from scipy.stats import entropy\n",
    "all_entropies=[]\n",
    "for form in interpretations:\n",
    "    counts=plot_utils.get_form_counts(all_articles, form)\n",
    "    counts=list(counts)\n",
    "    all_entropies.append(entropy(counts, base=len(counts)))"
   ]
  },
  {
   "cell_type": "code",
   "execution_count": null,
   "metadata": {
    "collapsed": true
   },
   "outputs": [],
   "source": [
    "\n",
    "\n",
    "sns.distplot(all_entropies, kde=False)"
   ]
  },
  {
   "cell_type": "code",
   "execution_count": null,
   "metadata": {
    "collapsed": true
   },
   "outputs": [],
   "source": [
    "all_entropies_lz = []\n",
    "for ent in all_entropies:\n",
    "    if ent>0.0:\n",
    "        all_entropies_lz.append(ent)"
   ]
  },
  {
   "cell_type": "code",
   "execution_count": null,
   "metadata": {
    "collapsed": true
   },
   "outputs": [],
   "source": [
    "len(all_entropies_lz)"
   ]
  },
  {
   "cell_type": "code",
   "execution_count": null,
   "metadata": {
    "collapsed": true
   },
   "outputs": [],
   "source": [
    "sns.distplot(all_entropies_lz, kde=False)"
   ]
  },
  {
   "cell_type": "code",
   "execution_count": null,
   "metadata": {
    "collapsed": true
   },
   "outputs": [],
   "source": [
    "all_entropies_lz"
   ]
  },
  {
   "cell_type": "code",
   "execution_count": null,
   "metadata": {
    "collapsed": true
   },
   "outputs": [],
   "source": []
  }
 ],
 "metadata": {
  "kernelspec": {
   "display_name": "Python 3",
   "language": "python",
   "name": "python3"
  },
  "language_info": {
   "codemirror_mode": {
    "name": "ipython",
    "version": 3
   },
   "file_extension": ".py",
   "mimetype": "text/x-python",
   "name": "python",
   "nbconvert_exporter": "python",
   "pygments_lexer": "ipython3",
   "version": "3.6.1"
  }
 },
 "nbformat": 4,
 "nbformat_minor": 2
}
